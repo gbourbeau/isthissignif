{
 "cells": [
  {
   "cell_type": "markdown",
   "id": "464a73df",
   "metadata": {},
   "source": [
    "# Using _isthissignif_: mtcars"
   ]
  },
  {
   "cell_type": "markdown",
   "id": "76eb7507",
   "metadata": {},
   "source": [
    "### Importing mtcars dataset "
   ]
  },
  {
   "cell_type": "code",
   "execution_count": 32,
   "id": "0e59d2b7",
   "metadata": {},
   "outputs": [],
   "source": [
    "import statsmodels.api as sm\n",
    "\n",
    "#importing mtcars dataset from statsmodels\n",
    "mtcars = sm.datasets.get_rdataset(\"mtcars\", \"datasets\", cache=True).data"
   ]
  },
  {
   "cell_type": "markdown",
   "id": "703c9e56",
   "metadata": {},
   "source": [
    "### Preview mtcars dataset"
   ]
  },
  {
   "cell_type": "code",
   "execution_count": 33,
   "id": "90bd482a",
   "metadata": {},
   "outputs": [
    {
     "data": {
      "text/html": [
       "<div>\n",
       "<style scoped>\n",
       "    .dataframe tbody tr th:only-of-type {\n",
       "        vertical-align: middle;\n",
       "    }\n",
       "\n",
       "    .dataframe tbody tr th {\n",
       "        vertical-align: top;\n",
       "    }\n",
       "\n",
       "    .dataframe thead th {\n",
       "        text-align: right;\n",
       "    }\n",
       "</style>\n",
       "<table border=\"1\" class=\"dataframe\">\n",
       "  <thead>\n",
       "    <tr style=\"text-align: right;\">\n",
       "      <th></th>\n",
       "      <th>mpg</th>\n",
       "      <th>cyl</th>\n",
       "      <th>disp</th>\n",
       "      <th>hp</th>\n",
       "      <th>drat</th>\n",
       "      <th>wt</th>\n",
       "      <th>qsec</th>\n",
       "      <th>vs</th>\n",
       "      <th>am</th>\n",
       "      <th>gear</th>\n",
       "      <th>carb</th>\n",
       "    </tr>\n",
       "  </thead>\n",
       "  <tbody>\n",
       "    <tr>\n",
       "      <th>Mazda RX4</th>\n",
       "      <td>21.0</td>\n",
       "      <td>6</td>\n",
       "      <td>160.0</td>\n",
       "      <td>110</td>\n",
       "      <td>3.90</td>\n",
       "      <td>2.620</td>\n",
       "      <td>16.46</td>\n",
       "      <td>0</td>\n",
       "      <td>1</td>\n",
       "      <td>4</td>\n",
       "      <td>4</td>\n",
       "    </tr>\n",
       "    <tr>\n",
       "      <th>Mazda RX4 Wag</th>\n",
       "      <td>21.0</td>\n",
       "      <td>6</td>\n",
       "      <td>160.0</td>\n",
       "      <td>110</td>\n",
       "      <td>3.90</td>\n",
       "      <td>2.875</td>\n",
       "      <td>17.02</td>\n",
       "      <td>0</td>\n",
       "      <td>1</td>\n",
       "      <td>4</td>\n",
       "      <td>4</td>\n",
       "    </tr>\n",
       "    <tr>\n",
       "      <th>Datsun 710</th>\n",
       "      <td>22.8</td>\n",
       "      <td>4</td>\n",
       "      <td>108.0</td>\n",
       "      <td>93</td>\n",
       "      <td>3.85</td>\n",
       "      <td>2.320</td>\n",
       "      <td>18.61</td>\n",
       "      <td>1</td>\n",
       "      <td>1</td>\n",
       "      <td>4</td>\n",
       "      <td>1</td>\n",
       "    </tr>\n",
       "    <tr>\n",
       "      <th>Hornet 4 Drive</th>\n",
       "      <td>21.4</td>\n",
       "      <td>6</td>\n",
       "      <td>258.0</td>\n",
       "      <td>110</td>\n",
       "      <td>3.08</td>\n",
       "      <td>3.215</td>\n",
       "      <td>19.44</td>\n",
       "      <td>1</td>\n",
       "      <td>0</td>\n",
       "      <td>3</td>\n",
       "      <td>1</td>\n",
       "    </tr>\n",
       "    <tr>\n",
       "      <th>Hornet Sportabout</th>\n",
       "      <td>18.7</td>\n",
       "      <td>8</td>\n",
       "      <td>360.0</td>\n",
       "      <td>175</td>\n",
       "      <td>3.15</td>\n",
       "      <td>3.440</td>\n",
       "      <td>17.02</td>\n",
       "      <td>0</td>\n",
       "      <td>0</td>\n",
       "      <td>3</td>\n",
       "      <td>2</td>\n",
       "    </tr>\n",
       "  </tbody>\n",
       "</table>\n",
       "</div>"
      ],
      "text/plain": [
       "                    mpg  cyl   disp   hp  drat     wt   qsec  vs  am  gear  \\\n",
       "Mazda RX4          21.0    6  160.0  110  3.90  2.620  16.46   0   1     4   \n",
       "Mazda RX4 Wag      21.0    6  160.0  110  3.90  2.875  17.02   0   1     4   \n",
       "Datsun 710         22.8    4  108.0   93  3.85  2.320  18.61   1   1     4   \n",
       "Hornet 4 Drive     21.4    6  258.0  110  3.08  3.215  19.44   1   0     3   \n",
       "Hornet Sportabout  18.7    8  360.0  175  3.15  3.440  17.02   0   0     3   \n",
       "\n",
       "                   carb  \n",
       "Mazda RX4             4  \n",
       "Mazda RX4 Wag         4  \n",
       "Datsun 710            1  \n",
       "Hornet 4 Drive        1  \n",
       "Hornet Sportabout     2  "
      ]
     },
     "execution_count": 33,
     "metadata": {},
     "output_type": "execute_result"
    }
   ],
   "source": [
    "mtcars.head() #preview mtcars data"
   ]
  },
  {
   "cell_type": "markdown",
   "id": "e63a734a",
   "metadata": {},
   "source": [
    "### Creating mtcars model: mpg ~ cyl"
   ]
  },
  {
   "cell_type": "code",
   "execution_count": 34,
   "id": "e87b6ee1",
   "metadata": {},
   "outputs": [],
   "source": [
    "import statsmodels.formula.api as smf\n",
    "\n",
    "#create regression model for mtcars data using statsmodels.formula.api package\n",
    "mtcars_model = smf.ols(formula='mpg ~ cyl', data=mtcars).fit()"
   ]
  },
  {
   "cell_type": "markdown",
   "id": "8bc84983",
   "metadata": {},
   "source": [
    "### Typical mtcars regression model summary"
   ]
  },
  {
   "cell_type": "code",
   "execution_count": 35,
   "id": "1c45e0d9",
   "metadata": {},
   "outputs": [
    {
     "data": {
      "text/html": [
       "<table class=\"simpletable\">\n",
       "<caption>OLS Regression Results</caption>\n",
       "<tr>\n",
       "  <th>Dep. Variable:</th>           <td>mpg</td>       <th>  R-squared:         </th> <td>   0.726</td>\n",
       "</tr>\n",
       "<tr>\n",
       "  <th>Model:</th>                   <td>OLS</td>       <th>  Adj. R-squared:    </th> <td>   0.717</td>\n",
       "</tr>\n",
       "<tr>\n",
       "  <th>Method:</th>             <td>Least Squares</td>  <th>  F-statistic:       </th> <td>   79.56</td>\n",
       "</tr>\n",
       "<tr>\n",
       "  <th>Date:</th>             <td>Wed, 14 Dec 2022</td> <th>  Prob (F-statistic):</th> <td>6.11e-10</td>\n",
       "</tr>\n",
       "<tr>\n",
       "  <th>Time:</th>                 <td>12:47:49</td>     <th>  Log-Likelihood:    </th> <td> -81.653</td>\n",
       "</tr>\n",
       "<tr>\n",
       "  <th>No. Observations:</th>      <td>    32</td>      <th>  AIC:               </th> <td>   167.3</td>\n",
       "</tr>\n",
       "<tr>\n",
       "  <th>Df Residuals:</th>          <td>    30</td>      <th>  BIC:               </th> <td>   170.2</td>\n",
       "</tr>\n",
       "<tr>\n",
       "  <th>Df Model:</th>              <td>     1</td>      <th>                     </th>     <td> </td>   \n",
       "</tr>\n",
       "<tr>\n",
       "  <th>Covariance Type:</th>      <td>nonrobust</td>    <th>                     </th>     <td> </td>   \n",
       "</tr>\n",
       "</table>\n",
       "<table class=\"simpletable\">\n",
       "<tr>\n",
       "      <td></td>         <th>coef</th>     <th>std err</th>      <th>t</th>      <th>P>|t|</th>  <th>[0.025</th>    <th>0.975]</th>  \n",
       "</tr>\n",
       "<tr>\n",
       "  <th>Intercept</th> <td>   37.8846</td> <td>    2.074</td> <td>   18.268</td> <td> 0.000</td> <td>   33.649</td> <td>   42.120</td>\n",
       "</tr>\n",
       "<tr>\n",
       "  <th>cyl</th>       <td>   -2.8758</td> <td>    0.322</td> <td>   -8.920</td> <td> 0.000</td> <td>   -3.534</td> <td>   -2.217</td>\n",
       "</tr>\n",
       "</table>\n",
       "<table class=\"simpletable\">\n",
       "<tr>\n",
       "  <th>Omnibus:</th>       <td> 1.007</td> <th>  Durbin-Watson:     </th> <td>   1.670</td>\n",
       "</tr>\n",
       "<tr>\n",
       "  <th>Prob(Omnibus):</th> <td> 0.604</td> <th>  Jarque-Bera (JB):  </th> <td>   0.874</td>\n",
       "</tr>\n",
       "<tr>\n",
       "  <th>Skew:</th>          <td> 0.380</td> <th>  Prob(JB):          </th> <td>   0.646</td>\n",
       "</tr>\n",
       "<tr>\n",
       "  <th>Kurtosis:</th>      <td> 2.720</td> <th>  Cond. No.          </th> <td>    24.1</td>\n",
       "</tr>\n",
       "</table><br/><br/>Notes:<br/>[1] Standard Errors assume that the covariance matrix of the errors is correctly specified."
      ],
      "text/plain": [
       "<class 'statsmodels.iolib.summary.Summary'>\n",
       "\"\"\"\n",
       "                            OLS Regression Results                            \n",
       "==============================================================================\n",
       "Dep. Variable:                    mpg   R-squared:                       0.726\n",
       "Model:                            OLS   Adj. R-squared:                  0.717\n",
       "Method:                 Least Squares   F-statistic:                     79.56\n",
       "Date:                Wed, 14 Dec 2022   Prob (F-statistic):           6.11e-10\n",
       "Time:                        12:47:49   Log-Likelihood:                -81.653\n",
       "No. Observations:                  32   AIC:                             167.3\n",
       "Df Residuals:                      30   BIC:                             170.2\n",
       "Df Model:                           1                                         \n",
       "Covariance Type:            nonrobust                                         \n",
       "==============================================================================\n",
       "                 coef    std err          t      P>|t|      [0.025      0.975]\n",
       "------------------------------------------------------------------------------\n",
       "Intercept     37.8846      2.074     18.268      0.000      33.649      42.120\n",
       "cyl           -2.8758      0.322     -8.920      0.000      -3.534      -2.217\n",
       "==============================================================================\n",
       "Omnibus:                        1.007   Durbin-Watson:                   1.670\n",
       "Prob(Omnibus):                  0.604   Jarque-Bera (JB):                0.874\n",
       "Skew:                           0.380   Prob(JB):                        0.646\n",
       "Kurtosis:                       2.720   Cond. No.                         24.1\n",
       "==============================================================================\n",
       "\n",
       "Notes:\n",
       "[1] Standard Errors assume that the covariance matrix of the errors is correctly specified.\n",
       "\"\"\""
      ]
     },
     "execution_count": 35,
     "metadata": {},
     "output_type": "execute_result"
    }
   ],
   "source": [
    "mtcars_model.summary() #view built-in regression summary output"
   ]
  },
  {
   "cell_type": "markdown",
   "id": "7c918c38",
   "metadata": {},
   "source": [
    "###### Note: The standard OLS Regression Results summary from statsmodels gives all output; however all interpretations of these measures are up to whomever is analyzing the output."
   ]
  },
  {
   "cell_type": "markdown",
   "id": "f2665ebb",
   "metadata": {},
   "source": [
    "### _isthissignif_ model summary for mtcars"
   ]
  },
  {
   "cell_type": "code",
   "execution_count": 36,
   "id": "a252304e",
   "metadata": {},
   "outputs": [
    {
     "data": {
      "text/plain": [
       "('R-sqr: Variables predict 50% or more of variability in Y',\n",
       " 'P-value(s): There is more than a 5% chance that the p-values of these variables do not happen by chance',\n",
       " 'CIs: 95% confidence interval does not contain zero')"
      ]
     },
     "execution_count": 36,
     "metadata": {},
     "output_type": "execute_result"
    }
   ],
   "source": [
    "from isthissignif import isthissignif \n",
    "\n",
    "#view isthissignif regression summary/interpretation output\n",
    "isthissignif.isthissignif(mtcars_model)"
   ]
  },
  {
   "cell_type": "markdown",
   "id": "da203364",
   "metadata": {},
   "source": [
    "###### Using _isthissignif_ to supplement the statsmodels regression summary provides a quick overview of the model's statistical measures' implications: is there a relatively high R-squared value? Are the models' p-values smaller than the alpha significance threshold of 0.05? Is zero in the confidence intervals?"
   ]
  },
  {
   "cell_type": "markdown",
   "id": "7e7afa7c",
   "metadata": {},
   "source": [
    "###### These quick regression model interpretations give a jumping-off point for further investigation. For example: if 0 is in one of your variable's confidence intervals, this means that the true value of the coefficient could be zero -- which might imply that your explanatory variable has a neglible effect, if any at all, on your response variable. "
   ]
  },
  {
   "cell_type": "markdown",
   "id": "378d6bb6",
   "metadata": {},
   "source": [
    "# Using _isthissignif_: pandas df"
   ]
  },
  {
   "cell_type": "markdown",
   "id": "ce0b5d90",
   "metadata": {},
   "source": [
    "### Creating dataframe for model"
   ]
  },
  {
   "cell_type": "code",
   "execution_count": 37,
   "id": "b5c23f54",
   "metadata": {},
   "outputs": [
    {
     "data": {
      "text/html": [
       "<div>\n",
       "<style scoped>\n",
       "    .dataframe tbody tr th:only-of-type {\n",
       "        vertical-align: middle;\n",
       "    }\n",
       "\n",
       "    .dataframe tbody tr th {\n",
       "        vertical-align: top;\n",
       "    }\n",
       "\n",
       "    .dataframe thead th {\n",
       "        text-align: right;\n",
       "    }\n",
       "</style>\n",
       "<table border=\"1\" class=\"dataframe\">\n",
       "  <thead>\n",
       "    <tr style=\"text-align: right;\">\n",
       "      <th></th>\n",
       "      <th>x</th>\n",
       "      <th>y</th>\n",
       "    </tr>\n",
       "  </thead>\n",
       "  <tbody>\n",
       "    <tr>\n",
       "      <th>0</th>\n",
       "      <td>1</td>\n",
       "      <td>76</td>\n",
       "    </tr>\n",
       "    <tr>\n",
       "      <th>1</th>\n",
       "      <td>1</td>\n",
       "      <td>76</td>\n",
       "    </tr>\n",
       "    <tr>\n",
       "      <th>2</th>\n",
       "      <td>2</td>\n",
       "      <td>78</td>\n",
       "    </tr>\n",
       "    <tr>\n",
       "      <th>3</th>\n",
       "      <td>2</td>\n",
       "      <td>78</td>\n",
       "    </tr>\n",
       "    <tr>\n",
       "      <th>4</th>\n",
       "      <td>2</td>\n",
       "      <td>85</td>\n",
       "    </tr>\n",
       "  </tbody>\n",
       "</table>\n",
       "</div>"
      ],
      "text/plain": [
       "   x   y\n",
       "0  1  76\n",
       "1  1  76\n",
       "2  2  78\n",
       "3  2  78\n",
       "4  2  85"
      ]
     },
     "execution_count": 37,
     "metadata": {},
     "output_type": "execute_result"
    }
   ],
   "source": [
    "import pandas as pd\n",
    "\n",
    "#create dataframe\n",
    "df = pd.DataFrame({'x': [1, 1, 2, 2, 2, 2, 4, 4, 2, 2, 1, 1, 5, 5, 4, 4, 2, 2, 4, 4, 4, 4,],\n",
    "                   'y': [76, 76, 78, 78, 85, 85, 88, 88, 72, 72, 69, 69, 94, 94, 94, 94, 88, 88, 92, 92, 90, 90]})\n",
    "\n",
    "df.head() #preview dataframe"
   ]
  },
  {
   "cell_type": "markdown",
   "id": "2ab5f3d9",
   "metadata": {},
   "source": [
    "### Creating model: y ~ x"
   ]
  },
  {
   "cell_type": "code",
   "execution_count": 29,
   "id": "a32e8759",
   "metadata": {},
   "outputs": [],
   "source": [
    "import statsmodels.formula.api as smf\n",
    "\n",
    "#create regression model for data using statsmodels.formula.api package\n",
    "model2 = smf.ols(formula='y ~ x', data=df).fit()"
   ]
  },
  {
   "cell_type": "markdown",
   "id": "a1820586",
   "metadata": {},
   "source": [
    "### _isthissignif_ model summary"
   ]
  },
  {
   "cell_type": "code",
   "execution_count": 31,
   "id": "be489c98",
   "metadata": {},
   "outputs": [
    {
     "data": {
      "text/plain": [
       "('R-sqr: Variables predict 50% or more of variability in Y',\n",
       " 'P-value(s): There is more than a 5% chance that the p-values of these variables do not happen by chance',\n",
       " 'CIs: 95% confidence interval does not contain zero')"
      ]
     },
     "execution_count": 31,
     "metadata": {},
     "output_type": "execute_result"
    }
   ],
   "source": [
    "#view isthissignif regression summary/interpretation output\n",
    "isthissignif.isthissignif(model2)"
   ]
  },
  {
   "cell_type": "markdown",
   "id": "8eb8b766",
   "metadata": {},
   "source": [
    "###### Reviewing the numeric output below, we can confirm that the _isthissignif_ interpretations are, in fact, reliable."
   ]
  },
  {
   "cell_type": "markdown",
   "id": "d3356660",
   "metadata": {},
   "source": [
    "### Typical statsmodels regression model summary"
   ]
  },
  {
   "cell_type": "code",
   "execution_count": 30,
   "id": "0e119ae8",
   "metadata": {},
   "outputs": [
    {
     "data": {
      "text/html": [
       "<table class=\"simpletable\">\n",
       "<caption>OLS Regression Results</caption>\n",
       "<tr>\n",
       "  <th>Dep. Variable:</th>            <td>y</td>        <th>  R-squared:         </th> <td>   0.732</td>\n",
       "</tr>\n",
       "<tr>\n",
       "  <th>Model:</th>                   <td>OLS</td>       <th>  Adj. R-squared:    </th> <td>   0.719</td>\n",
       "</tr>\n",
       "<tr>\n",
       "  <th>Method:</th>             <td>Least Squares</td>  <th>  F-statistic:       </th> <td>   54.70</td>\n",
       "</tr>\n",
       "<tr>\n",
       "  <th>Date:</th>             <td>Wed, 14 Dec 2022</td> <th>  Prob (F-statistic):</th> <td>3.83e-07</td>\n",
       "</tr>\n",
       "<tr>\n",
       "  <th>Time:</th>                 <td>12:43:37</td>     <th>  Log-Likelihood:    </th> <td> -63.897</td>\n",
       "</tr>\n",
       "<tr>\n",
       "  <th>No. Observations:</th>      <td>    22</td>      <th>  AIC:               </th> <td>   131.8</td>\n",
       "</tr>\n",
       "<tr>\n",
       "  <th>Df Residuals:</th>          <td>    20</td>      <th>  BIC:               </th> <td>   134.0</td>\n",
       "</tr>\n",
       "<tr>\n",
       "  <th>Df Model:</th>              <td>     1</td>      <th>                     </th>     <td> </td>   \n",
       "</tr>\n",
       "<tr>\n",
       "  <th>Covariance Type:</th>      <td>nonrobust</td>    <th>                     </th>     <td> </td>   \n",
       "</tr>\n",
       "</table>\n",
       "<table class=\"simpletable\">\n",
       "<tr>\n",
       "      <td></td>         <th>coef</th>     <th>std err</th>      <th>t</th>      <th>P>|t|</th>  <th>[0.025</th>    <th>0.975]</th>  \n",
       "</tr>\n",
       "<tr>\n",
       "  <th>Intercept</th> <td>   68.7731</td> <td>    2.306</td> <td>   29.829</td> <td> 0.000</td> <td>   63.964</td> <td>   73.583</td>\n",
       "</tr>\n",
       "<tr>\n",
       "  <th>x</th>         <td>    5.4676</td> <td>    0.739</td> <td>    7.396</td> <td> 0.000</td> <td>    3.926</td> <td>    7.010</td>\n",
       "</tr>\n",
       "</table>\n",
       "<table class=\"simpletable\">\n",
       "<tr>\n",
       "  <th>Omnibus:</th>       <td> 0.215</td> <th>  Durbin-Watson:     </th> <td>   0.633</td>\n",
       "</tr>\n",
       "<tr>\n",
       "  <th>Prob(Omnibus):</th> <td> 0.898</td> <th>  Jarque-Bera (JB):  </th> <td>   0.407</td>\n",
       "</tr>\n",
       "<tr>\n",
       "  <th>Skew:</th>          <td> 0.136</td> <th>  Prob(JB):          </th> <td>   0.816</td>\n",
       "</tr>\n",
       "<tr>\n",
       "  <th>Kurtosis:</th>      <td> 2.391</td> <th>  Cond. No.          </th> <td>    7.90</td>\n",
       "</tr>\n",
       "</table><br/><br/>Notes:<br/>[1] Standard Errors assume that the covariance matrix of the errors is correctly specified."
      ],
      "text/plain": [
       "<class 'statsmodels.iolib.summary.Summary'>\n",
       "\"\"\"\n",
       "                            OLS Regression Results                            \n",
       "==============================================================================\n",
       "Dep. Variable:                      y   R-squared:                       0.732\n",
       "Model:                            OLS   Adj. R-squared:                  0.719\n",
       "Method:                 Least Squares   F-statistic:                     54.70\n",
       "Date:                Wed, 14 Dec 2022   Prob (F-statistic):           3.83e-07\n",
       "Time:                        12:43:37   Log-Likelihood:                -63.897\n",
       "No. Observations:                  22   AIC:                             131.8\n",
       "Df Residuals:                      20   BIC:                             134.0\n",
       "Df Model:                           1                                         \n",
       "Covariance Type:            nonrobust                                         \n",
       "==============================================================================\n",
       "                 coef    std err          t      P>|t|      [0.025      0.975]\n",
       "------------------------------------------------------------------------------\n",
       "Intercept     68.7731      2.306     29.829      0.000      63.964      73.583\n",
       "x              5.4676      0.739      7.396      0.000       3.926       7.010\n",
       "==============================================================================\n",
       "Omnibus:                        0.215   Durbin-Watson:                   0.633\n",
       "Prob(Omnibus):                  0.898   Jarque-Bera (JB):                0.407\n",
       "Skew:                           0.136   Prob(JB):                        0.816\n",
       "Kurtosis:                       2.391   Cond. No.                         7.90\n",
       "==============================================================================\n",
       "\n",
       "Notes:\n",
       "[1] Standard Errors assume that the covariance matrix of the errors is correctly specified.\n",
       "\"\"\""
      ]
     },
     "execution_count": 30,
     "metadata": {},
     "output_type": "execute_result"
    }
   ],
   "source": [
    "model2.summary() #view built-in regression summary output"
   ]
  }
 ],
 "metadata": {
  "kernelspec": {
   "display_name": "Python 3 (ipykernel)",
   "language": "python",
   "name": "python3"
  },
  "language_info": {
   "codemirror_mode": {
    "name": "ipython",
    "version": 3
   },
   "file_extension": ".py",
   "mimetype": "text/x-python",
   "name": "python",
   "nbconvert_exporter": "python",
   "pygments_lexer": "ipython3",
   "version": "3.9.12"
  }
 },
 "nbformat": 4,
 "nbformat_minor": 5
}
